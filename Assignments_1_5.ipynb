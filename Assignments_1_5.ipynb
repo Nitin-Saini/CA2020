{
  "nbformat": 4,
  "nbformat_minor": 0,
  "metadata": {
    "colab": {
      "name": "Assignments 1 - 5.ipynb",
      "provenance": [],
      "collapsed_sections": []
    },
    "kernelspec": {
      "name": "python3",
      "display_name": "Python 3"
    }
  },
  "cells": [
    {
      "cell_type": "markdown",
      "metadata": {
        "id": "NxyD7y8fxAdZ",
        "colab_type": "text"
      },
      "source": [
        "# Task 1: Numbers and Variables"
      ]
    },
    {
      "cell_type": "code",
      "metadata": {
        "id": "n-qIVBFdjE-s",
        "colab_type": "code",
        "outputId": "50adce30-310b-447e-a7b0-2d45994edc8a",
        "colab": {
          "base_uri": "https://localhost:8080/",
          "height": 34
        }
      },
      "source": [
        "x, y, z = 1, 2.5, 'nitin'\n",
        "print(x, y, z)"
      ],
      "execution_count": 0,
      "outputs": [
        {
          "output_type": "stream",
          "text": [
            "1 2.5 nitin\n"
          ],
          "name": "stdout"
        }
      ]
    },
    {
      "cell_type": "code",
      "metadata": {
        "id": "jR69d3aAjOBY",
        "colab_type": "code",
        "outputId": "b5555a95-b124-48cb-dc9b-45d5e9e254d8",
        "colab": {
          "base_uri": "https://localhost:8080/",
          "height": 51
        }
      },
      "source": [
        "x = 5 + 10j\n",
        "y = 14\n",
        "print('Actual:', x, y)\n",
        "x = x+y\n",
        "y = x-y\n",
        "x = int((x-y).real)\n",
        "print('Swapped:', x, y)"
      ],
      "execution_count": 0,
      "outputs": [
        {
          "output_type": "stream",
          "text": [
            "Actual: (5+10j) 14\n",
            "Swapped: 14 (5+10j)\n"
          ],
          "name": "stdout"
        }
      ]
    },
    {
      "cell_type": "code",
      "metadata": {
        "id": "OD-bo1GykrP1",
        "colab_type": "code",
        "outputId": "dcc10e2d-6993-4a11-ea78-30a7cd4f20fe",
        "colab": {
          "base_uri": "https://localhost:8080/",
          "height": 51
        }
      },
      "source": [
        "x = input('Enter something:')\n",
        "print(x, type(x))\n"
      ],
      "execution_count": 0,
      "outputs": [
        {
          "output_type": "stream",
          "text": [
            "Enter something:Nitin\n",
            "Nitin <class 'str'>\n"
          ],
          "name": "stdout"
        }
      ]
    },
    {
      "cell_type": "code",
      "metadata": {
        "id": "CBHalnyUmid9",
        "colab_type": "code",
        "outputId": "a5922cc8-6b36-4757-8afb-4a22ccb06e91",
        "colab": {
          "base_uri": "https://localhost:8080/",
          "height": 51
        }
      },
      "source": [
        "x = input('Enter something:')\n",
        "print(x, type(x))\n"
      ],
      "execution_count": 0,
      "outputs": [
        {
          "output_type": "stream",
          "text": [
            "Enter something:5.5\n",
            "5.5 <class 'str'>\n"
          ],
          "name": "stdout"
        }
      ]
    },
    {
      "cell_type": "code",
      "metadata": {
        "id": "ub6Nszi6mlzc",
        "colab_type": "code",
        "outputId": "beba888f-6f86-495b-ad58-65a7bf2223fb",
        "colab": {
          "base_uri": "https://localhost:8080/",
          "height": 51
        }
      },
      "source": [
        "x = float(input('Enter something:'))\n",
        "print(x, type(x))"
      ],
      "execution_count": 0,
      "outputs": [
        {
          "output_type": "stream",
          "text": [
            "Enter something:5.5\n",
            "5.5 <class 'float'>\n"
          ],
          "name": "stdout"
        }
      ]
    },
    {
      "cell_type": "code",
      "metadata": {
        "id": "kWd7U6ALm74b",
        "colab_type": "code",
        "outputId": "85cd8f21-2c4e-4f59-e2ee-2e7e91d1c094",
        "colab": {
          "base_uri": "https://localhost:8080/",
          "height": 51
        }
      },
      "source": [
        "x = input('Enter something:')\n",
        "print(x, type(x))"
      ],
      "execution_count": 0,
      "outputs": [
        {
          "output_type": "stream",
          "text": [
            "Enter something:[1,2,5.5,'nitin']\n",
            "[1,2,5.5,'nitin'] <class 'str'>\n"
          ],
          "name": "stdout"
        }
      ]
    },
    {
      "cell_type": "code",
      "metadata": {
        "id": "rtSvrMognCOS",
        "colab_type": "code",
        "outputId": "5062fbba-043d-468c-d048-e2e470871aee",
        "colab": {
          "base_uri": "https://localhost:8080/",
          "height": 51
        }
      },
      "source": [
        "# to convert datatype to list\n",
        "x = eval(input('Enter something:'))\n",
        "print(x, type(x))"
      ],
      "execution_count": 0,
      "outputs": [
        {
          "output_type": "stream",
          "text": [
            "Enter something:[1,2,5.5,'nitin']\n",
            "[1, 2, 5.5, 'nitin'] <class 'list'>\n"
          ],
          "name": "stdout"
        }
      ]
    },
    {
      "cell_type": "code",
      "metadata": {
        "id": "bCZDP5GvndR8",
        "colab_type": "code",
        "outputId": "e129fb89-f9a0-47d4-a3f3-b8c6ec87a74a",
        "colab": {
          "base_uri": "https://localhost:8080/",
          "height": 68
        }
      },
      "source": [
        "def addition(x, y):\n",
        "  z = x + y\n",
        "  z +=30\n",
        "  print('Result: ', z)\n",
        "\n",
        "x = int(input('Enter no. 1:'))\n",
        "y = int(input('Enter no. 2:'))\n",
        "addition(x, y)"
      ],
      "execution_count": 0,
      "outputs": [
        {
          "output_type": "stream",
          "text": [
            "Enter no. 1:5\n",
            "Enter no. 2:10\n",
            "Result:  45\n"
          ],
          "name": "stdout"
        }
      ]
    },
    {
      "cell_type": "code",
      "metadata": {
        "id": "n4n1c_l5nyKh",
        "colab_type": "code",
        "outputId": "8860cbc3-68da-4432-a757-dc5e7d8ed83b",
        "colab": {
          "base_uri": "https://localhost:8080/",
          "height": 85
        }
      },
      "source": [
        "def datatypes(x, y):\n",
        "  print('Dtype of x: ', type(x))\n",
        "  print('Dtype of y: ', type(y))\n",
        "\n",
        "x = int(input('Enter no. 1:'))\n",
        "y = float(input('Enter no. 2:'))\n",
        "datatypes(x, y)"
      ],
      "execution_count": 0,
      "outputs": [
        {
          "output_type": "stream",
          "text": [
            "Enter no. 1:3\n",
            "Enter no. 2:4.5\n",
            "Dtype of x:  <class 'int'>\n",
            "Dtype of y:  <class 'float'>\n"
          ],
          "name": "stdout"
        }
      ]
    },
    {
      "cell_type": "code",
      "metadata": {
        "id": "iDaIqyfqopZ3",
        "colab_type": "code",
        "outputId": "00be4970-77e7-4ae2-d53c-be3668f0752f",
        "colab": {
          "base_uri": "https://localhost:8080/",
          "height": 51
        }
      },
      "source": [
        "x = input('Enter no. 1:')\n",
        "print('Upper case:', x.upper())\n",
        "def camel_case(x):\n",
        "  camel_case = ''\n",
        "  camel_case += x[0].lower()\n",
        "  if x == '':\n",
        "    return\n",
        "  if len(x) == 1:\n",
        "    return(x.lower())\n",
        "  for i in range(1, len(x)):\n",
        "    if x[i] == ' ':\n",
        "      camel_case += '_'\n",
        "    elif x[i].isupper():\n",
        "      camel_case += x[i].lower()\n",
        "    else:\n",
        "      camel_case += x[i]\n",
        "  return(camel_case)\n",
        "\n",
        "result = camel_case(x)\n",
        "print('Camel case:', result)"
      ],
      "execution_count": 0,
      "outputs": [
        {
          "output_type": "stream",
          "text": [
            "Enter no. 1:A Big Cat\n",
            "Camel case: a_big_cat\n"
          ],
          "name": "stdout"
        }
      ]
    },
    {
      "cell_type": "code",
      "metadata": {
        "id": "2M7mix1hw87o",
        "colab_type": "code",
        "outputId": "f0bc3b15-9d8f-478c-ee22-104ef823ca67",
        "colab": {
          "base_uri": "https://localhost:8080/",
          "height": 68
        }
      },
      "source": [
        "x = 5\n",
        "print(type(x))\n",
        "\n",
        "x = 5.5\n",
        "print(type(x))\n",
        "\n",
        "x = 'nitin'\n",
        "print(type(x))\n",
        "\n",
        "# datatype changes are it is a fresh re-assignment!"
      ],
      "execution_count": 0,
      "outputs": [
        {
          "output_type": "stream",
          "text": [
            "<class 'int'>\n",
            "<class 'float'>\n",
            "<class 'str'>\n"
          ],
          "name": "stdout"
        }
      ]
    },
    {
      "cell_type": "markdown",
      "metadata": {
        "id": "3LSLpikhz0Ua",
        "colab_type": "text"
      },
      "source": [
        "# Task 2"
      ]
    },
    {
      "cell_type": "code",
      "metadata": {
        "id": "ChELUKnqxlC_",
        "colab_type": "code",
        "outputId": "6543f587-84f9-405d-a024-313f9bcffa91",
        "colab": {
          "base_uri": "https://localhost:8080/",
          "height": 51
        }
      },
      "source": [
        "x = int(input('Enter no.: '))\n",
        "def check(x):\n",
        "  if x%3 == 0 and x%5 == 0:\n",
        "    print('ConsultAdd Python Training')\n",
        "  elif x%3 == 0:\n",
        "    print('ConsultAdd')\n",
        "  elif x%5 == 0:\n",
        "    print('c')\n",
        "  else:\n",
        "    pass\n",
        "\n",
        "check(x)"
      ],
      "execution_count": 0,
      "outputs": [
        {
          "output_type": "stream",
          "text": [
            "Enter no.: 24\n",
            "ConsultAdd\n"
          ],
          "name": "stdout"
        }
      ]
    },
    {
      "cell_type": "code",
      "metadata": {
        "id": "Z9eAZhFOz2fm",
        "colab_type": "code",
        "outputId": "c5e6fffc-cded-4d71-9c84-a46d52e210ce",
        "colab": {
          "base_uri": "https://localhost:8080/",
          "height": 102
        }
      },
      "source": [
        "x = int(input('Enter 1st value: '))\n",
        "y = int(input('Enter 2nd value: '))\n",
        "act = int(input('What do you want to do?: '))\n",
        "def action(x, y, act):\n",
        "  action = {\n",
        "      1: x+y,\n",
        "      2: x-y,\n",
        "      3: x*y,\n",
        "      4: x/y,\n",
        "      5: (x+y)/2\n",
        "  }\n",
        "  print(action[act])\n",
        "  if action[act] < 0:\n",
        "    print('Negative')\n",
        "action(x, y, act)"
      ],
      "execution_count": 0,
      "outputs": [
        {
          "output_type": "stream",
          "text": [
            "Enter 1st value: 10\n",
            "Enter 2nd value: 20\n",
            "What do you want to do?: 2\n",
            "-10\n",
            "Negative\n"
          ],
          "name": "stdout"
        }
      ]
    },
    {
      "cell_type": "code",
      "metadata": {
        "id": "4Kf2iaa818Rk",
        "colab_type": "code",
        "outputId": "a65f3266-b923-44ac-cda9-14f6b079d3d0",
        "colab": {
          "base_uri": "https://localhost:8080/",
          "height": 85
        }
      },
      "source": [
        "x = int(input('Enter 1st value: '))\n",
        "y = int(input('Enter 2nd value: '))\n",
        "z = int(input('Enter 3rd value: '))\n",
        "def check_avg(x, y, z):\n",
        "  avg = (x+y+z)/3\n",
        "  if avg > x and avg > y and avg > z:\n",
        "    print('Avg is more than x, y, z')\n",
        "  elif avg > x and avg > y:\n",
        "    print('Avg is more than x, y')\n",
        "  elif avg > z and avg > y:\n",
        "    print('Avg is more than z, y')\n",
        "  elif avg > x and avg > z:\n",
        "    print('Avg is more than x, z')\n",
        "  elif avg > x:\n",
        "    print('Avg is more than x')\n",
        "  elif avg > y:\n",
        "    print('Avg is more than y')\n",
        "  elif avg > z:\n",
        "    print('Avg is more than z')\n",
        "\n",
        "check_avg(x, y, z)\n"
      ],
      "execution_count": 0,
      "outputs": [
        {
          "output_type": "stream",
          "text": [
            "Enter 1st value: 10\n",
            "Enter 2nd value: 20\n",
            "Enter 3rd value: 30\n",
            "Avg is more than x\n"
          ],
          "name": "stdout"
        }
      ]
    },
    {
      "cell_type": "code",
      "metadata": {
        "id": "ORrXuqGNG6_l",
        "colab_type": "code",
        "outputId": "599e933c-51f3-4bca-92d7-84522703d6ec",
        "colab": {
          "base_uri": "https://localhost:8080/",
          "height": 153
        }
      },
      "source": [
        "def positivity():\n",
        "  while(1):\n",
        "    x = int(input('Enter value: '))\n",
        "    if x > -1:\n",
        "      print('Good going!')\n",
        "    else:\n",
        "      print('Its over!')\n",
        "      break\n",
        "\n",
        "positivity()"
      ],
      "execution_count": 0,
      "outputs": [
        {
          "output_type": "stream",
          "text": [
            "Enter value: 1\n",
            "Good going!\n",
            "Enter value: 2\n",
            "Good going!\n",
            "Enter value: 10\n",
            "Good going!\n",
            "Enter value: -5\n",
            "Its over!\n"
          ],
          "name": "stdout"
        }
      ]
    },
    {
      "cell_type": "code",
      "metadata": {
        "id": "11rEWfpBHxuo",
        "colab_type": "code",
        "outputId": "9e2ecd31-7649-4b87-af7f-da23feee4819",
        "colab": {
          "base_uri": "https://localhost:8080/",
          "height": 54
        }
      },
      "source": [
        "values = []\n",
        "for i in range(2000, 3201):\n",
        "  if i%7 == 0 and i%5 != 0:\n",
        "    values.append(i)\n",
        "print(values)"
      ],
      "execution_count": 0,
      "outputs": [
        {
          "output_type": "stream",
          "text": [
            "[2002, 2009, 2016, 2023, 2037, 2044, 2051, 2058, 2072, 2079, 2086, 2093, 2107, 2114, 2121, 2128, 2142, 2149, 2156, 2163, 2177, 2184, 2191, 2198, 2212, 2219, 2226, 2233, 2247, 2254, 2261, 2268, 2282, 2289, 2296, 2303, 2317, 2324, 2331, 2338, 2352, 2359, 2366, 2373, 2387, 2394, 2401, 2408, 2422, 2429, 2436, 2443, 2457, 2464, 2471, 2478, 2492, 2499, 2506, 2513, 2527, 2534, 2541, 2548, 2562, 2569, 2576, 2583, 2597, 2604, 2611, 2618, 2632, 2639, 2646, 2653, 2667, 2674, 2681, 2688, 2702, 2709, 2716, 2723, 2737, 2744, 2751, 2758, 2772, 2779, 2786, 2793, 2807, 2814, 2821, 2828, 2842, 2849, 2856, 2863, 2877, 2884, 2891, 2898, 2912, 2919, 2926, 2933, 2947, 2954, 2961, 2968, 2982, 2989, 2996, 3003, 3017, 3024, 3031, 3038, 3052, 3059, 3066, 3073, 3087, 3094, 3101, 3108, 3122, 3129, 3136, 3143, 3157, 3164, 3171, 3178, 3192, 3199]\n"
          ],
          "name": "stdout"
        }
      ]
    },
    {
      "cell_type": "code",
      "metadata": {
        "id": "a32RQNb9Ikgj",
        "colab_type": "code",
        "outputId": "7652aae1-a7eb-4407-a0c1-de3fff4aaf2e",
        "colab": {
          "base_uri": "https://localhost:8080/",
          "height": 102
        }
      },
      "source": [
        "for i in range(0,7):\n",
        "  if i == 3 or i == 6:\n",
        "    continue\n",
        "  else:\n",
        "    print(i)"
      ],
      "execution_count": 0,
      "outputs": [
        {
          "output_type": "stream",
          "text": [
            "0\n",
            "1\n",
            "2\n",
            "4\n",
            "5\n"
          ],
          "name": "stdout"
        }
      ]
    },
    {
      "cell_type": "code",
      "metadata": {
        "id": "eE9-jybIKobj",
        "colab_type": "code",
        "outputId": "b2798af2-34f0-48a8-ca46-2676e3b810f0",
        "colab": {
          "base_uri": "https://localhost:8080/",
          "height": 68
        }
      },
      "source": [
        "x = input('Enter an aphanumeric text: ')\n",
        "digits = 0\n",
        "alpha = 0\n",
        "for i in x:\n",
        "  if i.isdigit():\n",
        "    digits += 1\n",
        "  elif i.isalpha():\n",
        "    alpha += 1\n",
        "print('Digits: ', digits)\n",
        "print('Alphabets: ', alpha)\n"
      ],
      "execution_count": 0,
      "outputs": [
        {
          "output_type": "stream",
          "text": [
            "Enter an aphanumeric text: nitin1234567890\n",
            "Digits:  10\n",
            "Alphabets:  5\n"
          ],
          "name": "stdout"
        }
      ]
    },
    {
      "cell_type": "code",
      "metadata": {
        "id": "3OqjpMBQMz9-",
        "colab_type": "code",
        "outputId": "fd4e052b-640b-4a21-c0a6-a28acf61256a",
        "colab": {
          "base_uri": "https://localhost:8080/",
          "height": 153
        }
      },
      "source": [
        "def lucky():\n",
        "  while True:\n",
        "    x = int(input('Enter lucky number:'))\n",
        "    lucky_number = 100\n",
        "    if x == lucky_number:\n",
        "      break\n",
        "\n",
        "lucky()"
      ],
      "execution_count": 0,
      "outputs": [
        {
          "output_type": "stream",
          "text": [
            "Enter lucky number:1\n",
            "Enter lucky number:2\n",
            "Enter lucky number:4\n",
            "Enter lucky number:6\n",
            "Enter lucky number:4\n",
            "Enter lucky number:44\n",
            "Enter lucky number:56\n",
            "Enter lucky number:100\n"
          ],
          "name": "stdout"
        }
      ]
    },
    {
      "cell_type": "code",
      "metadata": {
        "id": "mcLyBKdcNVNl",
        "colab_type": "code",
        "outputId": "7f11e563-db61-43f8-f119-94167a89b58d",
        "colab": {
          "base_uri": "https://localhost:8080/",
          "height": 153
        }
      },
      "source": [
        "def lucky():\n",
        "  while True:\n",
        "    x = int(input('Enter lucky number:'))\n",
        "    lucky_number = 100\n",
        "    if x == lucky_number:\n",
        "      break\n",
        "    else:\n",
        "      answer = input('Do you want to continue? (yes/no)')\n",
        "      if answer == 'no':\n",
        "        break\n",
        "\n",
        "lucky()"
      ],
      "execution_count": 0,
      "outputs": [
        {
          "output_type": "stream",
          "text": [
            "Enter lucky number:1\n",
            "Do you want to continue? (yes/no)yes\n",
            "Enter lucky number:6\n",
            "Do you want to continue? (yes/no)yes\n",
            "Enter lucky number:10\n",
            "Do you want to continue? (yes/no)yes\n",
            "Enter lucky number:34\n",
            "Do you want to continue? (yes/no)no\n"
          ],
          "name": "stdout"
        }
      ]
    },
    {
      "cell_type": "code",
      "metadata": {
        "id": "qqABoY4EPIUj",
        "colab_type": "code",
        "outputId": "506d6138-6d39-450d-b221-509b77d572e9",
        "colab": {
          "base_uri": "https://localhost:8080/",
          "height": 204
        }
      },
      "source": [
        "i = 0\n",
        "lucky_number = 50\n",
        "while i < 6:\n",
        "  i += 1\n",
        "  x = int(input('Enter lucky number:'))\n",
        "  if x == lucky_number:\n",
        "    print('Good job!')\n",
        "  else:\n",
        "    if i < 5:\n",
        "      print('Try again!')\n",
        "  if i == 5:\n",
        "    print('Game over!')\n",
        "    break"
      ],
      "execution_count": 0,
      "outputs": [
        {
          "output_type": "stream",
          "text": [
            "Enter lucky number:43\n",
            "Try again!\n",
            "Enter lucky number:35\n",
            "Try again!\n",
            "Enter lucky number:50\n",
            "Good job!\n",
            "Enter lucky number:50\n",
            "Good job!\n",
            "Enter lucky number:50\n",
            "Good job!\n",
            "Game over!\n"
          ],
          "name": "stdout"
        }
      ]
    },
    {
      "cell_type": "code",
      "metadata": {
        "id": "0ywsttNFODjn",
        "colab_type": "code",
        "outputId": "63fa20ea-6362-4413-dfcf-c76457bea7b0",
        "colab": {
          "base_uri": "https://localhost:8080/",
          "height": 187
        }
      },
      "source": [
        "i = 0\n",
        "lucky_number = 50\n",
        "while i < 5:\n",
        "  i += 1\n",
        "  x = int(input('Enter lucky number:'))\n",
        "  if x == lucky_number:\n",
        "    print('Good job!')\n",
        "    break\n",
        "  else:\n",
        "    if i < 5:\n",
        "      print('Try again!')\n",
        "print('Sorry, you were not successful!')"
      ],
      "execution_count": 0,
      "outputs": [
        {
          "output_type": "stream",
          "text": [
            "Enter lucky number:345\n",
            "Try again!\n",
            "Enter lucky number:11\n",
            "Try again!\n",
            "Enter lucky number:1\n",
            "Try again!\n",
            "Enter lucky number:1\n",
            "Try again!\n",
            "Enter lucky number:1\n",
            "Sorry, you were not successful!\n"
          ],
          "name": "stdout"
        }
      ]
    },
    {
      "cell_type": "markdown",
      "metadata": {
        "id": "7Bstc_MDUqzj",
        "colab_type": "text"
      },
      "source": [
        "# Task 3: Data Structures"
      ]
    },
    {
      "cell_type": "code",
      "metadata": {
        "id": "bKdaBRxxRZFc",
        "colab_type": "code",
        "outputId": "e4193ff8-e25e-4b20-83de-2dd254da1204",
        "colab": {
          "base_uri": "https://localhost:8080/",
          "height": 34
        }
      },
      "source": [
        "x = [1, 2.5, 'nitin', 1+5j, 5, 6.5, 'saini', 5+10j, 3, 5]\n",
        "x"
      ],
      "execution_count": 0,
      "outputs": [
        {
          "output_type": "execute_result",
          "data": {
            "text/plain": [
              "[1, 2.5, 'nitin', (1+5j), 5, 6.5, 'saini', (5+10j), 3, 5]"
            ]
          },
          "metadata": {
            "tags": []
          },
          "execution_count": 24
        }
      ]
    },
    {
      "cell_type": "code",
      "metadata": {
        "id": "64IwjT52U8JS",
        "colab_type": "code",
        "outputId": "f0e0d2c6-44d9-4731-fac2-2c4ad4a411f9",
        "colab": {
          "base_uri": "https://localhost:8080/",
          "height": 85
        }
      },
      "source": [
        "x = [1, 2, 3, 4, 5]\n",
        "print(x[:3])\n",
        "print(x[3:])\n",
        "print(x[:-1])\n",
        "print(x[1:4])"
      ],
      "execution_count": 0,
      "outputs": [
        {
          "output_type": "stream",
          "text": [
            "[1, 2, 3]\n",
            "[4, 5]\n",
            "[1, 2, 3, 4]\n",
            "[2, 3, 4]\n"
          ],
          "name": "stdout"
        }
      ]
    },
    {
      "cell_type": "code",
      "metadata": {
        "id": "aQ0hjvuCViRH",
        "colab_type": "code",
        "outputId": "be98f920-7918-492e-cdcf-3bffba06cdac",
        "colab": {
          "base_uri": "https://localhost:8080/",
          "height": 51
        }
      },
      "source": [
        "x = eval(input('Enter a list:'))\n",
        "add = 0\n",
        "mul = 1\n",
        "for i in x:\n",
        "  add += i\n",
        "  mul *= i\n",
        "print(add, mul)"
      ],
      "execution_count": 0,
      "outputs": [
        {
          "output_type": "stream",
          "text": [
            "Enter a list:1,2,3,4,5\n",
            "15 120\n"
          ],
          "name": "stdout"
        }
      ]
    },
    {
      "cell_type": "code",
      "metadata": {
        "id": "8DIu7h8HWWEQ",
        "colab_type": "code",
        "outputId": "d08bf3c4-3518-426b-a431-b6a0305f4143",
        "colab": {
          "base_uri": "https://localhost:8080/",
          "height": 68
        }
      },
      "source": [
        "x = eval(input('Enter a list:'))\n",
        "print('Largest: ', max(x))\n",
        "print('Smallest: ', min(x))"
      ],
      "execution_count": 0,
      "outputs": [
        {
          "output_type": "stream",
          "text": [
            "Enter a list:1,2,3,4,5\n",
            "Largest:  5\n",
            "Smallest:  1\n"
          ],
          "name": "stdout"
        }
      ]
    },
    {
      "cell_type": "code",
      "metadata": {
        "id": "XKqhUMFhjIP1",
        "colab_type": "code",
        "outputId": "f400d20f-24a1-4c5a-b3ea-9d40b8fe9a73",
        "colab": {
          "base_uri": "https://localhost:8080/",
          "height": 51
        }
      },
      "source": [
        "x = eval(input('Enter a list:'))\n",
        "def get_even(x):\n",
        "  y = []\n",
        "  for i in x:\n",
        "    if i%2 != 0:\n",
        "      y.append(i)\n",
        "  print(y)\n",
        "get_even(x)\n"
      ],
      "execution_count": 0,
      "outputs": [
        {
          "output_type": "stream",
          "text": [
            "Enter a list:1,2,3,4,5,6,7,8\n",
            "[1, 3, 5, 7]\n"
          ],
          "name": "stdout"
        }
      ]
    },
    {
      "cell_type": "code",
      "metadata": {
        "id": "txClj_NAkqk3",
        "colab_type": "code",
        "outputId": "dadff867-9872-4ae5-e7b3-d98144edc558",
        "colab": {
          "base_uri": "https://localhost:8080/",
          "height": 68
        }
      },
      "source": [
        "x = eval(input('Enter list1:'))\n",
        "y = eval(input('Enter list2:'))\n",
        "\n",
        "def add_list(x, y):\n",
        "  x = x[:-1] + y\n",
        "  print(x)    \n",
        "\n",
        "add_list(x, y)\n"
      ],
      "execution_count": 0,
      "outputs": [
        {
          "output_type": "stream",
          "text": [
            "Enter list1:1,2,3,4,10\n",
            "Enter list2:5,6,7,8\n",
            "(1, 2, 3, 4, 5, 6, 7, 8)\n"
          ],
          "name": "stdout"
        }
      ]
    },
    {
      "cell_type": "code",
      "metadata": {
        "id": "b-w7oh43o50l",
        "colab_type": "code",
        "outputId": "9f37db15-ebc4-43c8-df56-207218bd7445",
        "colab": {
          "base_uri": "https://localhost:8080/",
          "height": 34
        }
      },
      "source": [
        "d1 = {\n",
        "    \"x\": 10,\n",
        "    \"y\": 20,\n",
        "    \"z\": 30\n",
        "}\n",
        "d2 = {\n",
        "    \"a\": \"nitin\",\n",
        "    \"b\": \"saini\"\n",
        "}\n",
        "d = d1.copy()\n",
        "d.update(d2)\n",
        "print(d)"
      ],
      "execution_count": 0,
      "outputs": [
        {
          "output_type": "stream",
          "text": [
            "{'x': 10, 'y': 20, 'z': 30, 'a': 'nitin', 'b': 'saini'}\n"
          ],
          "name": "stdout"
        }
      ]
    },
    {
      "cell_type": "code",
      "metadata": {
        "id": "oH8hXhyEp7p2",
        "colab_type": "code",
        "outputId": "912e0411-868e-4584-8c52-590d1649d4b0",
        "colab": {
          "base_uri": "https://localhost:8080/",
          "height": 51
        }
      },
      "source": [
        "n = int(input('Enter a number:'))\n",
        "def dictionary(n):\n",
        "  d = {}\n",
        "  for i in range(1,n+1):\n",
        "    d[i] = i*i\n",
        "  print(d)\n",
        "\n",
        "dictionary(n)"
      ],
      "execution_count": 0,
      "outputs": [
        {
          "output_type": "stream",
          "text": [
            "Enter a number:10\n",
            "{1: 1, 2: 4, 3: 9, 4: 16, 5: 25, 6: 36, 7: 49, 8: 64, 9: 81, 10: 100}\n"
          ],
          "name": "stdout"
        }
      ]
    },
    {
      "cell_type": "code",
      "metadata": {
        "id": "DF-vqxkzrgqH",
        "colab_type": "code",
        "outputId": "1014a5a6-29a6-4b3c-f15b-44e5cb35a9f6",
        "colab": {
          "base_uri": "https://localhost:8080/",
          "height": 68
        }
      },
      "source": [
        "x = input('Enter a comma separated list of numbers:')\n",
        "l = list(x.split(','))\n",
        "print(l)\n",
        "t = tuple(x.split(','))\n",
        "print(t)"
      ],
      "execution_count": 0,
      "outputs": [
        {
          "output_type": "stream",
          "text": [
            "Enter a comma separated list of numbers:1,2,3,4\n",
            "['1', '2', '3', '4']\n",
            "('1', '2', '3', '4')\n"
          ],
          "name": "stdout"
        }
      ]
    },
    {
      "cell_type": "code",
      "metadata": {
        "id": "8kmKVu_fJFIJ",
        "colab_type": "code",
        "outputId": "d8b7ce93-c6c4-4214-fec6-f765c1c462d6",
        "colab": {
          "base_uri": "https://localhost:8080/",
          "height": 102
        }
      },
      "source": [
        "x = [100,200,300,400,500,[1,2,3,4,5,[10,20,30,40,50],6,7,8,9],600,700,800]\n",
        "print(x[5][:4])\n",
        "print(x[-3:-1])\n",
        "print(x[::2])\n",
        "print(x[::-1])\n",
        "print(x[5][5][0])"
      ],
      "execution_count": 0,
      "outputs": [
        {
          "output_type": "stream",
          "text": [
            "[1, 2, 3, 4]\n",
            "[600, 700]\n",
            "[100, 300, 500, 600, 800]\n",
            "[800, 700, 600, [1, 2, 3, 4, 5, [10, 20, 30, 40, 50], 6, 7, 8, 9], 500, 400, 300, 200, 100]\n",
            "10\n"
          ],
          "name": "stdout"
        }
      ]
    },
    {
      "cell_type": "code",
      "metadata": {
        "id": "9Pj94uLTKq1Y",
        "colab_type": "code",
        "outputId": "7b67b457-18af-4c0b-fdab-eaea42d1eb04",
        "colab": {
          "base_uri": "https://localhost:8080/",
          "height": 289
        }
      },
      "source": [
        "for i in range(1,100):\n",
        "  if i%3 == 0 and i%2 == 0:\n",
        "      print(i)"
      ],
      "execution_count": 0,
      "outputs": [
        {
          "output_type": "stream",
          "text": [
            "6\n",
            "12\n",
            "18\n",
            "24\n",
            "30\n",
            "36\n",
            "42\n",
            "48\n",
            "54\n",
            "60\n",
            "66\n",
            "72\n",
            "78\n",
            "84\n",
            "90\n",
            "96\n"
          ],
          "name": "stdout"
        }
      ]
    },
    {
      "cell_type": "code",
      "metadata": {
        "id": "BkggHj3qM0SS",
        "colab_type": "code",
        "outputId": "2e483a9a-5f5a-4724-845c-a59e5a79c902",
        "colab": {
          "base_uri": "https://localhost:8080/",
          "height": 102
        }
      },
      "source": [
        "x = input('Enter a string: ')\n",
        "for i, val in enumerate(x[::-1]):\n",
        "  if val in ['a','e','i','o','u']:\n",
        "    print(val, i)"
      ],
      "execution_count": 0,
      "outputs": [
        {
          "output_type": "stream",
          "text": [
            "Enter a string: qwertyuiop\n",
            "o 1\n",
            "i 2\n",
            "u 3\n",
            "e 7\n"
          ],
          "name": "stdout"
        }
      ]
    },
    {
      "cell_type": "code",
      "metadata": {
        "id": "mbCsCL_ENlUg",
        "colab_type": "code",
        "outputId": "c6bcd5cf-c787-46ab-81d4-419e2a0392f9",
        "colab": {
          "base_uri": "https://localhost:8080/",
          "height": 102
        }
      },
      "source": [
        "x = input('Enter a string: ')\n",
        "count = 0\n",
        "string = ''\n",
        "for i, val in enumerate(x):\n",
        "  if val != ' ':\n",
        "    count +=1\n",
        "    string = string + val\n",
        "  elif val == ' ':\n",
        "    if count%2 == 0:\n",
        "      print(string)\n",
        "      count = 0\n",
        "      string = ''\n",
        "    else:\n",
        "      count = 0\n",
        "      string = ''\n",
        "  if i == len(x)-1:\n",
        "      print(string)"
      ],
      "execution_count": 0,
      "outputs": [
        {
          "output_type": "stream",
          "text": [
            "Enter a string: hello my name is abcde\n",
            "my\n",
            "name\n",
            "is\n",
            "abcde\n"
          ],
          "name": "stdout"
        }
      ]
    },
    {
      "cell_type": "code",
      "metadata": {
        "id": "XGARQp-ySPgu",
        "colab_type": "code",
        "outputId": "b29439be-48d8-4ba3-fcae-8dd389306d9c",
        "colab": {
          "base_uri": "https://localhost:8080/",
          "height": 85
        }
      },
      "source": [
        "x = eval(input('Enter a list: '))\n",
        "for i in range(len(x)):\n",
        "  for j in range(i+1, len(x)):\n",
        "    if x[i] + x[j] == 8:\n",
        "      print(x[i], x[j])"
      ],
      "execution_count": 0,
      "outputs": [
        {
          "output_type": "stream",
          "text": [
            "Enter a list: 1,2,3,4,5,6,7,8\n",
            "1 7\n",
            "2 6\n",
            "3 5\n"
          ],
          "name": "stdout"
        }
      ]
    },
    {
      "cell_type": "code",
      "metadata": {
        "id": "fHIaY1tLe6tT",
        "colab_type": "code",
        "colab": {}
      },
      "source": [
        "x = eval(input('Enter a list: '))\n",
        "for i in range(len(x)):"
      ],
      "execution_count": 0,
      "outputs": []
    },
    {
      "cell_type": "code",
      "metadata": {
        "id": "-AEAvqEZUM08",
        "colab_type": "code",
        "outputId": "9e389381-4fa7-4f50-b04d-07dccef58a5a",
        "colab": {
          "base_uri": "https://localhost:8080/",
          "height": 187
        }
      },
      "source": [
        "even = []\n",
        "odd = []\n",
        "while(True):\n",
        "  x = int(input('Enter a number: '))\n",
        "  if x%2 == 0:\n",
        "    even.append(x)\n",
        "  else:\n",
        "    odd.append(x)\n",
        "  if len(even) == 5:\n",
        "    print('Sum of even list: ', sum(even))\n",
        "    print('Max of even list: ', max(even))\n",
        "    break\n",
        "  if len(odd) == 5:\n",
        "    print('Sum of odd list: ', sum(odd))\n",
        "    print('Max of odd list: ', max(odd))\n",
        "    break"
      ],
      "execution_count": 0,
      "outputs": [
        {
          "output_type": "stream",
          "text": [
            "Enter a number: 1\n",
            "Enter a number: 2\n",
            "Enter a number: 3\n",
            "Enter a number: 4\n",
            "Enter a number: 5\n",
            "Enter a number: 6\n",
            "Enter a number: 7\n",
            "Enter a number: 9\n",
            "Sum of odd list:  25\n",
            "Max of odd list:  9\n"
          ],
          "name": "stdout"
        }
      ]
    },
    {
      "cell_type": "code",
      "metadata": {
        "id": "AcawNLloWAAo",
        "colab_type": "code",
        "outputId": "7464c85b-b744-436f-bd04-1e37d2ed1850",
        "colab": {
          "base_uri": "https://localhost:8080/",
          "height": 51
        }
      },
      "source": [
        "x = input('Enter a statement: ')\n",
        "d = {}\n",
        "for val in x:\n",
        "  if val.isalpha():\n",
        "    if val not in d:\n",
        "      d[val] = 1\n",
        "    else:\n",
        "      d[val] += 1\n",
        "print(d)"
      ],
      "execution_count": 0,
      "outputs": [
        {
          "output_type": "stream",
          "text": [
            "Enter a statement: 1qw31qw31qw3\n",
            "{'q': 3, 'w': 3}\n"
          ],
          "name": "stdout"
        }
      ]
    },
    {
      "cell_type": "code",
      "metadata": {
        "id": "AgbM7GtWX4me",
        "colab_type": "code",
        "outputId": "f5b320b2-0e31-42b6-8faf-ddc95e38c065",
        "colab": {
          "base_uri": "https://localhost:8080/",
          "height": 51
        }
      },
      "source": [
        "x = eval(input('Enter a list: '))\n",
        "y = []\n",
        "x = tuple(x)\n",
        "for i in x:\n",
        "  if i%2 == 0:\n",
        "    y.append(i)\n",
        "y = tuple(y)\n",
        "print(y)"
      ],
      "execution_count": 0,
      "outputs": [
        {
          "output_type": "stream",
          "text": [
            "Enter a list: 1,2,3,4,5,6,7\n",
            "(2, 4, 6)\n"
          ],
          "name": "stdout"
        }
      ]
    },
    {
      "cell_type": "code",
      "metadata": {
        "id": "FKRmALPC3Pwg",
        "colab_type": "code",
        "outputId": "416b9636-93ed-42c4-9c7f-b695d9abb4e9",
        "colab": {
          "base_uri": "https://localhost:8080/",
          "height": 68
        }
      },
      "source": [
        "x = [1,2,3]\n",
        "y = [1,2,3]\n",
        "\n",
        "for a,b in zip(x,y):\n",
        "  print(a+b)"
      ],
      "execution_count": 0,
      "outputs": [
        {
          "output_type": "stream",
          "text": [
            "2\n",
            "4\n",
            "6\n"
          ],
          "name": "stdout"
        }
      ]
    },
    {
      "cell_type": "markdown",
      "metadata": {
        "id": "taISmyq7XWk9",
        "colab_type": "text"
      },
      "source": [
        "# Task 4"
      ]
    },
    {
      "cell_type": "code",
      "metadata": {
        "id": "49IrA6USQv6d",
        "colab_type": "code",
        "outputId": "2ef6428e-6905-46a8-e7ab-569f9b844e94",
        "colab": {
          "base_uri": "https://localhost:8080/",
          "height": 51
        }
      },
      "source": [
        "def reverse(s):\n",
        "  return s[::-1]\n",
        "\n",
        "s = input('Enter string: ')\n",
        "reverse(s)"
      ],
      "execution_count": 0,
      "outputs": [
        {
          "output_type": "stream",
          "text": [
            "Enter string: qwerty\n"
          ],
          "name": "stdout"
        },
        {
          "output_type": "execute_result",
          "data": {
            "text/plain": [
              "'ytrewq'"
            ]
          },
          "metadata": {
            "tags": []
          },
          "execution_count": 3
        }
      ]
    },
    {
      "cell_type": "code",
      "metadata": {
        "id": "8nkmyOfTXYnD",
        "colab_type": "code",
        "outputId": "1b465ed4-66c5-4ecc-b2d5-458f41afbd18",
        "colab": {
          "base_uri": "https://localhost:8080/",
          "height": 68
        }
      },
      "source": [
        "def whatCase(s):\n",
        "  upper = 0\n",
        "  lower = 0\n",
        "  for i in s:\n",
        "    if i.isupper():\n",
        "      upper += 1\n",
        "    elif i.islower():\n",
        "      lower += 1\n",
        "  print('Upper count: ', upper)\n",
        "  print('Lower count: ', lower)\n",
        "\n",
        "s = input('Enter string: ')\n",
        "whatCase(s)"
      ],
      "execution_count": 0,
      "outputs": [
        {
          "output_type": "stream",
          "text": [
            "Enter string: I am writing a FUNCTION.\n",
            "Upper count:  9\n",
            "Lower count:  10\n"
          ],
          "name": "stdout"
        }
      ]
    },
    {
      "cell_type": "code",
      "metadata": {
        "id": "bfRnjt_nYEyi",
        "colab_type": "code",
        "outputId": "aa74747f-b2e8-4b0f-ab85-9cb089686332",
        "colab": {
          "base_uri": "https://localhost:8080/",
          "height": 51
        }
      },
      "source": [
        "def unique(l):\n",
        "  s = set(l)\n",
        "  s = list(s)\n",
        "  print(s)\n",
        "\n",
        "l = eval(input('Enter list: '))\n",
        "unique(l)"
      ],
      "execution_count": 0,
      "outputs": [
        {
          "output_type": "stream",
          "text": [
            "Enter list: 1,2,3,3,4,5,5,6,5,4,3,2,1,3,5,4,32,\n",
            "[32, 1, 2, 3, 4, 5, 6]\n"
          ],
          "name": "stdout"
        }
      ]
    },
    {
      "cell_type": "code",
      "metadata": {
        "id": "Ae8Wg-RtYfmi",
        "colab_type": "code",
        "outputId": "5ee2503a-8c7f-4819-9a59-f8119d60bf85",
        "colab": {
          "base_uri": "https://localhost:8080/",
          "height": 51
        }
      },
      "source": [
        "def sorting(l):\n",
        "  s = l.split('-')\n",
        "  s = sorted(s)\n",
        "  return('-'.join(s))\n",
        "\n",
        "l = input('Enter hyphen separated string: ')\n",
        "sorting(l)"
      ],
      "execution_count": 0,
      "outputs": [
        {
          "output_type": "stream",
          "text": [
            "Enter hyphen separated string: I-am-writing-a-line\n"
          ],
          "name": "stdout"
        },
        {
          "output_type": "execute_result",
          "data": {
            "text/plain": [
              "'I-a-am-line-writing'"
            ]
          },
          "metadata": {
            "tags": []
          },
          "execution_count": 11
        }
      ]
    },
    {
      "cell_type": "code",
      "metadata": {
        "id": "a8XnYvLKcNMK",
        "colab_type": "code",
        "outputId": "33c9a61e-6b1c-4f7b-a5f0-19af0533570b",
        "colab": {
          "base_uri": "https://localhost:8080/",
          "height": 170
        }
      },
      "source": [
        "def add(a,b):\n",
        "  return(a+b)\n",
        "\n",
        "while True:\n",
        "  try:\n",
        "    a = input('Enter number: ')\n",
        "    b = input('Enter number: ')\n",
        "    a = int(a)\n",
        "    b = int(b)\n",
        "    r = add(a,b)\n",
        "    print(r)\n",
        "    break\n",
        "  except:\n",
        "    print('Enter a number.')"
      ],
      "execution_count": 0,
      "outputs": [
        {
          "output_type": "stream",
          "text": [
            "Enter number: q\n",
            "Enter number: q\n",
            "Enter a number.\n",
            "Enter number: q\n",
            "Enter number: \n",
            "Enter a number.\n",
            "Enter number: 12\n",
            "Enter number: 23\n",
            "35\n"
          ],
          "name": "stdout"
        }
      ]
    },
    {
      "cell_type": "code",
      "metadata": {
        "id": "ce1EbtLG7ldn",
        "colab_type": "code",
        "outputId": "ace97be4-c6de-497d-b355-f353445a6e38",
        "colab": {
          "base_uri": "https://localhost:8080/",
          "height": 85
        }
      },
      "source": [
        "a = input('Enter string: ')\n",
        "b = input('Enter string: ')\n",
        "\n",
        "def check(a,b):\n",
        "  if len(a) > len(b):\n",
        "    print(a)\n",
        "  elif len(a) < len(b):\n",
        "    print(b)\n",
        "  else:\n",
        "    print(a)\n",
        "    print(b)\n",
        "\n",
        "check(a,b)"
      ],
      "execution_count": 0,
      "outputs": [
        {
          "output_type": "stream",
          "text": [
            "Enter string: nitin\n",
            "Enter string: saini\n",
            "nitin\n",
            "saini\n"
          ],
          "name": "stdout"
        }
      ]
    },
    {
      "cell_type": "code",
      "metadata": {
        "id": "TCzkQ_C57_J_",
        "colab_type": "code",
        "outputId": "17ec2ce9-bfd5-43e0-9085-adba2205ac3e",
        "colab": {
          "base_uri": "https://localhost:8080/",
          "height": 34
        }
      },
      "source": [
        "def square():\n",
        "  l = []\n",
        "  for i in range(1, 21):\n",
        "    l.append(i*i)\n",
        "  l = tuple(l)\n",
        "  print(l)\n",
        "\n",
        "square()"
      ],
      "execution_count": 0,
      "outputs": [
        {
          "output_type": "stream",
          "text": [
            "(1, 4, 9, 16, 25, 36, 49, 64, 81, 100, 121, 144, 169, 196, 225, 256, 289, 324, 361, 400)\n"
          ],
          "name": "stdout"
        }
      ]
    },
    {
      "cell_type": "code",
      "metadata": {
        "id": "sTKD_FdB8ZCj",
        "colab_type": "code",
        "outputId": "fbe073f3-d5e1-444f-c5f6-bbf4505c82af",
        "colab": {
          "base_uri": "https://localhost:8080/",
          "height": 289
        }
      },
      "source": [
        "def limit():\n",
        "  lim = int(input('Enter limit: '))\n",
        "  for i in range(1,lim+1):\n",
        "    if i%2 == 0:\n",
        "      print(i, 'EVEN')\n",
        "    else:\n",
        "      print(i, 'ODD')\n",
        "\n",
        "limit()"
      ],
      "execution_count": 0,
      "outputs": [
        {
          "output_type": "stream",
          "text": [
            "Enter limit: 15\n",
            "1 ODD\n",
            "2 EVEN\n",
            "3 ODD\n",
            "4 EVEN\n",
            "5 ODD\n",
            "6 EVEN\n",
            "7 ODD\n",
            "8 EVEN\n",
            "9 ODD\n",
            "10 EVEN\n",
            "11 ODD\n",
            "12 EVEN\n",
            "13 ODD\n",
            "14 EVEN\n",
            "15 ODD\n"
          ],
          "name": "stdout"
        }
      ]
    },
    {
      "cell_type": "code",
      "metadata": {
        "id": "N-QnlQGh9K6c",
        "colab_type": "code",
        "outputId": "167f78b2-94da-4b59-8e47-e2e7541f18c1",
        "colab": {
          "base_uri": "https://localhost:8080/",
          "height": 34
        }
      },
      "source": [
        "def is_even(x):\n",
        "    if x % 2 == 0:\n",
        "        return True\n",
        "    else:\n",
        "        return False\n",
        "\n",
        "l = list(filter(is_even, range(1,21)))\n",
        "print(l)"
      ],
      "execution_count": 0,
      "outputs": [
        {
          "output_type": "stream",
          "text": [
            "[2, 4, 6, 8, 10, 12, 14, 16, 18, 20]\n"
          ],
          "name": "stdout"
        }
      ]
    },
    {
      "cell_type": "code",
      "metadata": {
        "id": "1cfSFW_m95xW",
        "colab_type": "code",
        "outputId": "b2a4e775-ea9a-4892-d056-2bd127cfcbfd",
        "colab": {
          "base_uri": "https://localhost:8080/",
          "height": 34
        }
      },
      "source": [
        "m = list(map(lambda x:x*x, [1,2,3,4,5,6,7,8,9,10]))\n",
        "def is_even(x):\n",
        "    if x % 2 == 0:\n",
        "        return True\n",
        "    else:\n",
        "        return False\n",
        "\n",
        "l = list(filter(is_even, m))\n",
        "print(l)"
      ],
      "execution_count": 0,
      "outputs": [
        {
          "output_type": "stream",
          "text": [
            "[4, 16, 36, 64, 100]\n"
          ],
          "name": "stdout"
        }
      ]
    },
    {
      "cell_type": "code",
      "metadata": {
        "id": "C3VelWmF_UiF",
        "colab_type": "code",
        "outputId": "37fa6210-ec50-4afe-8488-2ad741423a15",
        "colab": {
          "base_uri": "https://localhost:8080/",
          "height": 34
        }
      },
      "source": [
        "try:\n",
        "  y = 5/0\n",
        "except Exception as e:\n",
        "  print(e)"
      ],
      "execution_count": 0,
      "outputs": [
        {
          "output_type": "stream",
          "text": [
            "division by zero\n"
          ],
          "name": "stdout"
        }
      ]
    },
    {
      "cell_type": "code",
      "metadata": {
        "id": "1Ow6KUwd_pNV",
        "colab_type": "code",
        "outputId": "f6bb6395-7289-4648-8473-143b2cb0a072",
        "colab": {
          "base_uri": "https://localhost:8080/",
          "height": 34
        }
      },
      "source": [
        "import functools as fc\n",
        "fc.reduce(lambda x,y:x+y, [[1,2],[3,4],[5,6]])"
      ],
      "execution_count": 0,
      "outputs": [
        {
          "output_type": "execute_result",
          "data": {
            "text/plain": [
              "[1, 2, 3, 4, 5, 6]"
            ]
          },
          "metadata": {
            "tags": []
          },
          "execution_count": 26
        }
      ]
    },
    {
      "cell_type": "code",
      "metadata": {
        "id": "zoktxyF6AQCS",
        "colab_type": "code",
        "colab": {}
      },
      "source": [
        "# 14.a) 2\n",
        "# 14.b) after f\n",
        "#       exception"
      ],
      "execution_count": 0,
      "outputs": []
    },
    {
      "cell_type": "code",
      "metadata": {
        "id": "ejZEnC9-c19G",
        "colab_type": "code",
        "outputId": "eb290f4c-30bb-4551-dd3e-a0f307b2b920",
        "colab": {
          "base_uri": "https://localhost:8080/",
          "height": 34
        }
      },
      "source": [
        "l = [1,1,1,2,2,3,8,4,5,6,7]\n",
        "set([x for x in l if l.count(x) > 1])"
      ],
      "execution_count": 0,
      "outputs": [
        {
          "output_type": "execute_result",
          "data": {
            "text/plain": [
              "{1, 2}"
            ]
          },
          "metadata": {
            "tags": []
          },
          "execution_count": 3
        }
      ]
    },
    {
      "cell_type": "code",
      "metadata": {
        "id": "EoKe8PsfdMW5",
        "colab_type": "code",
        "outputId": "ae78f84e-4f88-4bc5-dfdd-47cc2487d391",
        "colab": {
          "base_uri": "https://localhost:8080/",
          "height": 34
        }
      },
      "source": [
        "def duplicate(l):\n",
        "  d = {}\n",
        "  for i in l:\n",
        "    if i in d:\n",
        "      d[i] += 1\n",
        "    else:\n",
        "      d[i] = 1\n",
        "  nl = []\n",
        "  for key, value in d.items():\n",
        "    if value > 1:\n",
        "      nl.append(key)\n",
        "  print(nl)\n",
        "\n",
        "duplicate([1,1,1,2,2,3,8,4,5,6,7])"
      ],
      "execution_count": 0,
      "outputs": [
        {
          "output_type": "stream",
          "text": [
            "[1, 2]\n"
          ],
          "name": "stdout"
        }
      ]
    },
    {
      "cell_type": "markdown",
      "metadata": {
        "id": "47UBTdb5paPJ",
        "colab_type": "text"
      },
      "source": [
        "# Task 5"
      ]
    },
    {
      "cell_type": "code",
      "metadata": {
        "id": "fxS_tmAApdbY",
        "colab_type": "code",
        "outputId": "cfc3de95-7217-40e8-ae72-41432037a99d",
        "colab": {
          "base_uri": "https://localhost:8080/",
          "height": 34
        }
      },
      "source": [
        "# not able to catch syntax error\n",
        "try:\n",
        "  eval('x === x')\n",
        "except SyntaxError:\n",
        "  print(\"You've got an error\")"
      ],
      "execution_count": 33,
      "outputs": [
        {
          "output_type": "stream",
          "text": [
            "You've got an error\n"
          ],
          "name": "stdout"
        }
      ]
    },
    {
      "cell_type": "code",
      "metadata": {
        "id": "h5ojm8-eql3o",
        "colab_type": "code",
        "colab": {}
      },
      "source": [
        "from sys import argv\n",
        "prg, file = argv\n",
        "\n",
        "print('Program: ', prg)\n",
        "print('File: ', file)\n",
        "\n",
        "while(1):\n",
        "\ttry:\n",
        "\t\tfh = open(file)\n",
        "\t\tdata = fh.read()\n",
        "\t\tprint(data)\n",
        "\t\tfh.close()\n",
        "\t\tbreak\n",
        "\texcept:\n",
        "\t\tif input('Wrong filename, do you want to try again? (Y/N)') == 'Y':\n",
        "\t\t\tfile = input('Enter filename: ')\n",
        "\t\telse:\n",
        "\t\t\tbreak"
      ],
      "execution_count": 0,
      "outputs": []
    },
    {
      "cell_type": "code",
      "metadata": {
        "id": "SaApprWXPg-U",
        "colab_type": "code",
        "colab": {
          "base_uri": "https://localhost:8080/",
          "height": 85
        },
        "outputId": "af77af5f-8346-46f5-fb47-16f316a64452"
      },
      "source": [
        "while 1:\n",
        "  try:\n",
        "    x = int(input('Enter a 4 digit number: '))\n",
        "    if len(str(x)) == 4:\n",
        "      print(\"Length of password is: \", len(str(x)))\n",
        "      break\n",
        "    else:\n",
        "      print('Wrong length.')\n",
        "  except ValueError:\n",
        "    print(\"Enter digits only.\")\n",
        "    continue"
      ],
      "execution_count": 23,
      "outputs": [
        {
          "output_type": "stream",
          "text": [
            "Enter a 4 digit number: 1q\n",
            "Enter digits only.\n",
            "Enter a 4 digit number: 1234\n",
            "Length of password is:  4\n"
          ],
          "name": "stdout"
        }
      ]
    },
    {
      "cell_type": "code",
      "metadata": {
        "id": "jmLHi6AtTP5t",
        "colab_type": "code",
        "colab": {
          "base_uri": "https://localhost:8080/",
          "height": 136
        },
        "outputId": "d23c440d-a36e-4953-f055-93c54065f411"
      },
      "source": [
        "email = input('Enter email: ')\n",
        "password = input('Enter password: ')\n",
        "confPassword = input('Confirm password: ')\n",
        "count = 0\n",
        "while 1:\n",
        "  if password == confPassword:\n",
        "    print('Login Successful')\n",
        "    break\n",
        "  else:\n",
        "    if count == 3:\n",
        "      print(\"Login failed.\")\n",
        "      break\n",
        "    count += 1\n",
        "    confPassword = input(\"Passwords don't match. Please try again: \")\n",
        "    continue"
      ],
      "execution_count": 26,
      "outputs": [
        {
          "output_type": "stream",
          "text": [
            "Enter email: qwe@qwe.qwe\n",
            "Enter password: 123\n",
            "Confirm password: 234\n",
            "Passwords don't match. Please try again: 342\n",
            "Passwords don't match. Please try again: 321\n",
            "Passwords don't match. Please try again: 111\n",
            "Login failed.\n"
          ],
          "name": "stdout"
        }
      ]
    },
    {
      "cell_type": "code",
      "metadata": {
        "id": "DOQAj2ZHde1n",
        "colab_type": "code",
        "colab": {
          "base_uri": "https://localhost:8080/",
          "height": 34
        },
        "outputId": "5d1d0dec-4368-44f3-eb52-2864b39e1138"
      },
      "source": [
        "from sys import argv\n",
        "import re\n",
        "prg, file = argv\n",
        "\n",
        "print('Program: ', prg)\n",
        "print('File: ', file)\n",
        "\n",
        "while(1):\n",
        "\ttry:\n",
        "\t\tfh = open(file)\n",
        "\t\tdata = fh.read()\n",
        "\t\tdata = data.replace('\\n',' ')\n",
        "\t\tstrings = data.split(' ')\n",
        "\t\tprint(' '.join(list(i for i in strings if len(i)%2 == 0)))\n",
        "\t\tfh.close()\n",
        "\t\tbreak\n",
        "\texcept:\n",
        "\t\tif input('Wrong filename, do you want to try again? (Y/N)') == 'Y':\n",
        "\t\t\tfile = input('Enter filename: ')\n",
        "\t\telse:\n",
        "\t\t\tbreak"
      ],
      "execution_count": 49,
      "outputs": [
        {
          "output_type": "execute_result",
          "data": {
            "text/plain": [
              "'This is demo data do eleven tricks in minute'"
            ]
          },
          "metadata": {
            "tags": []
          },
          "execution_count": 49
        }
      ]
    },
    {
      "cell_type": "code",
      "metadata": {
        "id": "7p-7dGT-vZVg",
        "colab_type": "code",
        "colab": {
          "base_uri": "https://localhost:8080/",
          "height": 326
        },
        "outputId": "3b05fc17-807b-4a6d-bbdf-f3e9f9c86c66"
      },
      "source": [
        "!pip install pyadomd"
      ],
      "execution_count": 1,
      "outputs": [
        {
          "output_type": "stream",
          "text": [
            "Collecting pyadomd\n",
            "  Downloading https://files.pythonhosted.org/packages/76/79/6af29fa364806f01a05a58a0355cceed81aa8974db7914dd636d1e854208/pyadomd-0.0.5.tar.gz\n",
            "Collecting pythonnet\n",
            "\u001b[?25l  Downloading https://files.pythonhosted.org/packages/4a/0a/5964a5a1fdf207fab8e718edd1f8d3578e0681577fe9abe0d9006f9718c2/pythonnet-2.4.0.tar.gz (1.8MB)\n",
            "\u001b[K     |████████████████████████████████| 1.9MB 9.4MB/s \n",
            "\u001b[?25hBuilding wheels for collected packages: pyadomd, pythonnet\n",
            "  Building wheel for pyadomd (setup.py) ... \u001b[?25l\u001b[?25hdone\n",
            "  Created wheel for pyadomd: filename=pyadomd-0.0.5-cp36-none-any.whl size=4745 sha256=54c2e2233828599b38b7d8b679adfa98e7ce5b92f7e3e5067b13a0270ee54308\n",
            "  Stored in directory: /root/.cache/pip/wheels/ff/2a/fb/045a47a1dbeb39287d3e4c6d8519488c723b5f67a24a6a7b7d\n",
            "  Building wheel for pythonnet (setup.py) ... \u001b[?25lerror\n",
            "\u001b[31m  ERROR: Failed building wheel for pythonnet\u001b[0m\n",
            "\u001b[?25h  Running setup.py clean for pythonnet\n",
            "Successfully built pyadomd\n",
            "Failed to build pythonnet\n",
            "Installing collected packages: pythonnet, pyadomd\n",
            "    Running setup.py install for pythonnet ... \u001b[?25l\u001b[?25herror\n",
            "\u001b[31mERROR: Command errored out with exit status 1: /usr/bin/python3 -u -c 'import sys, setuptools, tokenize; sys.argv[0] = '\"'\"'/tmp/pip-install-7mr9hnb_/pythonnet/setup.py'\"'\"'; __file__='\"'\"'/tmp/pip-install-7mr9hnb_/pythonnet/setup.py'\"'\"';f=getattr(tokenize, '\"'\"'open'\"'\"', open)(__file__);code=f.read().replace('\"'\"'\\r\\n'\"'\"', '\"'\"'\\n'\"'\"');f.close();exec(compile(code, __file__, '\"'\"'exec'\"'\"'))' install --record /tmp/pip-record-60bpe3k3/install-record.txt --single-version-externally-managed --compile Check the logs for full command output.\u001b[0m\n"
          ],
          "name": "stdout"
        }
      ]
    }
  ]
}